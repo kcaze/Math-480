{
 "cells": [
  {
   "cell_type": "markdown",
   "metadata": {},
   "source": [
    "# Generate Data\n",
    "This is a simple notebook used for generating all the data we will be training our basic models on."
   ]
  },
  {
   "cell_type": "code",
   "execution_count": 1,
   "metadata": {},
   "outputs": [
    {
     "name": "stdout",
     "output_type": "stream",
     "text": [
      "Generated permutation data for n = 5\n",
      "Generated permutation data for n = 6\n",
      "Generated permutation data for n = 7\n",
      "Generated permutation data for n = 8\n",
      "Generated permutation data for n = 9\n",
      "Generated permutation data for n = 10\n"
     ]
    }
   ],
   "source": [
    "import importlib\n",
    "import itertools\n",
    "import csv\n",
    "\n",
    "permutations = importlib.import_module(\"permutations\")\n",
    "\n",
    "for n in range(5, 11):\n",
    "  with open(f\"data/permutations_{n}.csv\", 'w') as csvfile:\n",
    "    f = csv.writer(csvfile)\n",
    "    f.writerow([\"permutation\",\"stat1\",\"stat2\",\"stat3\",\"stat4\",\"stat5\",\"stat6\",\"stat7\",\"stat8\",\"stat9\"])\n",
    "    for perm in itertools.permutations(range(1, n+1)):\n",
    "        length = int(permutations.length(perm))\n",
    "        parity = int(permutations.parity(perm))\n",
    "        num_descents = int(permutations.num_descents(perm))\n",
    "        is_grassmannian = int(permutations.is_grassmannian(perm))\n",
    "        is_231_avoiding = int(permutations.is_pattern_avoiding(perm, [2, 3, 1]))\n",
    "        has_no_fixed_points = int(permutations.has_no_fixed_points(perm))\n",
    "        ends_in_one = int(permutations.ends_in_one(perm))\n",
    "        descent_at_end = int(permutations.descent_at_end(perm))\n",
    "        is_involution = int(permutations.is_involution(perm))\n",
    "        f.writerow([perm, ends_in_one, descent_at_end, is_involution, has_no_fixed_points, length, parity, num_descents, is_grassmannian, is_231_avoiding])\n",
    "    print(f\"Generated permutation data for n = {n}\")"
   ]
  }
 ],
 "metadata": {
  "kernelspec": {
   "display_name": "Python 3",
   "language": "python",
   "name": "python3"
  },
  "language_info": {
   "codemirror_mode": {
    "name": "ipython",
    "version": 3
   },
   "file_extension": ".py",
   "mimetype": "text/x-python",
   "name": "python",
   "nbconvert_exporter": "python",
   "pygments_lexer": "ipython3",
   "version": "3.12.3"
  }
 },
 "nbformat": 4,
 "nbformat_minor": 2
}
