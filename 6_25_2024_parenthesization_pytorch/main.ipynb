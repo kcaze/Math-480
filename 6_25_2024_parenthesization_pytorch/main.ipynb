{
 "cells": [
  {
   "cell_type": "markdown",
   "metadata": {},
   "source": [
    "# Imports"
   ]
  },
  {
   "cell_type": "code",
   "execution_count": null,
   "metadata": {},
   "outputs": [],
   "source": [
    "from torch.utils.data import DataLoader, random_split\n",
    "import torch\n",
    "from data import ParenthesizationDataset, ParenthesizationModel\n",
    "from train import train_one_epoch, evaluate_model\n",
    "import matplotlib.pyplot as plt"
   ]
  },
  {
   "cell_type": "markdown",
   "metadata": {},
   "source": [
    "# Initialization\n",
    "Set the parameters here for training and initialize the train/test datasets, data loaders, model, loss function and optimizer."
   ]
  },
  {
   "cell_type": "code",
   "execution_count": null,
   "metadata": {},
   "outputs": [],
   "source": [
    "n = 7\n",
    "epochs = 50\n",
    "train_split, test_split = 0.8, 0.2\n",
    "learning_rate = 0.001\n",
    "momentum = 0.9\n",
    "batch_size = 32\n",
    "\n",
    "model = ParenthesizationModel(2)"
    "full_dataset = ParenthesizationDataset(2)"
     "training_dataset, test_dataset = random_split(full_dataset, [train_split, test_split])"
     "training_loader = DataLoader(full_dataset, batch_size=batch_size, shuffle=True)"
     "loss_fn = torch.nn.CrossEntropyLoss()"
     "optimizer = torch.optim.SGD(model.parameters(), lr=learning_rate, momentum=momentum)"
   ]
  },
  {
   "cell_type": "markdown",
   "metadata": {},
   "source": [
    "# Training the model\n",
    "* Call `train_one_epoch` repeatedly to train the model once over the entire training dataset.\n",
    "* Print out the epoch number and loss after each training call to verify that the loss is going down.\n",
    "* Record the loss values in a list so that it can be plotted in the cell below.\n",
    "* After training, call `evaluate_model` to get the confusion matrix.\n",
    "* Save the model as `models/linear_model_{n}.pt`."
   ]
  },
  {
   "cell_type": "code",
   "execution_count": null,
   "metadata": {},
   "outputs": [],
   "source": [
    "loss = []\n",
    "for epoch in range(epochs):\n",
    "    # TODO\n",
    "    pass"
   ]
  },
  {
   "cell_type": "markdown",
   "metadata": {},
   "source": [
    "# Plot the loss curve\n",
    "Plot the loss curve with appropriate figure title and axis labels. Save the resulting figure in `figures/loss_curve_{n}.png`."
   ]
  },
  {
   "cell_type": "code",
   "execution_count": null,
   "metadata": {},
   "outputs": [],
   "source": [
    "# TODO"
   ]
  },
  {
   "cell_type": "markdown",
   "metadata": {},
   "source": [
    "# Analyze accuracy using the confusion matrix\n",
    "- Print out the accuracy within each of the prediction classes.\n",
    "- Print out the size of each prediction class.\n",
    "- Print out the overall accuracy."
   ]
  },
  {
   "cell_type": "code",
   "execution_count": null,
   "metadata": {},
   "outputs": [],
   "source": [
    "# TODO"
   ]
  },
  {
   "cell_type": "markdown",
   "metadata": {},
   "source": [
    "# Plot the model weights\n",
    "Can you interpret what the model is doing? Plot the model weights using `plt.imshow()` to get a heatmap. Choose a colormap from https://matplotlib.org/stable/users/explain/colors/colormaps.html that you prefer. I default to the `bwr` colormap where negative values are blue, positive value are red, and values close to zero are white."
   ]
  },
  {
   "cell_type": "code",
   "execution_count": null,
   "metadata": {},
   "outputs": [],
   "source": [
    "# TODO"
   ]
  },
  {
   "cell_type": "markdown",
   "metadata": {},
   "source": [
    "# \"Translate\" the model into code.\n",
    "Implement `simple_evaluate` which condenses the model's \"logic\" into a single if-else statement. Run this evaluation function over the test set to produce a new confusion matrix and see how it performs compared to the model you train."
   ]
  },
  {
   "cell_type": "code",
   "execution_count": null,
   "metadata": {},
   "outputs": [],
   "source": [
    "# Try to condense the linear model down into a single if-else statement. \n",
    "def simple_evaluate(input):\n",
    "    # TODO\n",
    "    pass"
   ]
  }
 ],
 "metadata": {
  "kernelspec": {
   "display_name": "Python 3",
   "language": "python",
   "name": "python3"
  },
  "language_info": {
   "codemirror_mode": {
    "name": "ipython",
    "version": 3
   },
   "file_extension": ".py",
   "mimetype": "text/x-python",
   "name": "python",
   "nbconvert_exporter": "python",
   "pygments_lexer": "ipython3",
   "version": "3.12.3"
  }
 },
 "nbformat": 4,
 "nbformat_minor": 2
}
