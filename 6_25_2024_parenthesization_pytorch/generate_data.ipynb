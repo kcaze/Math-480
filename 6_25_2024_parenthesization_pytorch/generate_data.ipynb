{
 "cells": [
  {
   "cell_type": "markdown",
   "metadata": {},
   "source": [
    "# Generate Data\n",
    "This is a simple notebook used for generating all the data we will be training our models on. For $1 \\le n \\le 10$, generate CSV data files. The header line should be `parenthesization,valid` and each subsequent row is a parenthesization followed by either `0` or `1`, where `0` denotes invalid and `1` denotes valid.\n",
    "\n",
    "The functions `parenthensizations.valid()` and `parenthesizations.invalid()` have been implemented for you, but make sure to balance the two classes so they have a equal number of data points."
   ]
  },
  {
   "cell_type": "code",
   "execution_count": 1,
   "metadata": {},
   "outputs": [
    {
     "name": "stdout",
     "output_type": "stream",
     "text": [
      "Generated data for n = 1 with a total of 1 valid and 3 invalid\n",
      "Generated data for n = 2 with a total of 2 valid and 14 invalid\n",
      "Generated data for n = 3 with a total of 5 valid and 59 invalid\n",
      "Generated data for n = 4 with a total of 14 valid and 242 invalid\n",
      "Generated data for n = 5 with a total of 42 valid and 982 invalid\n",
      "Generated data for n = 6 with a total of 132 valid and 3964 invalid\n",
      "Generated data for n = 7 with a total of 429 valid and 15955 invalid\n",
      "Generated data for n = 8 with a total of 1430 valid and 64106 invalid\n",
      "Generated data for n = 9 with a total of 4862 valid and 257282 invalid\n"
     ]
    }
   ],
   "source": [
    "import importlib\n",
    "import random\n",
    "parenthesizations = importlib.import_module('parenthesizations')\n",
    "\n",
    "for n in range(1, 10):\n",
    "    valid = parenthesizations.valid(n)\n",
    "    invalid = list(parenthesizations.invalid(n))\n",
    "    random.shuffle(invalid)\n",
    "    data = [f\"{p},1\" for p in valid] + [f\"{p},0\" for p in invalid[:len(valid)]]\n",
    "    with open(f\"data/parenthesizations_{n}.csv\", \"w\") as f:\n",
    "        f.write(\"parenthesization,valid\\n\")\n",
    "        f.write(\"\\n\".join(data))\n",
    "    print(f\"Generated data for n = {n} with a total of {len(valid)} valid and {len(invalid)} invalid\")"
   ]
  }
 ],
 "metadata": {
  "kernelspec": {
   "display_name": "Python 3",
   "language": "python",
   "name": "python3"
  },
  "language_info": {
   "codemirror_mode": {
    "name": "ipython",
    "version": 3
   },
   "file_extension": ".py",
   "mimetype": "text/x-python",
   "name": "python",
   "nbconvert_exporter": "python",
   "pygments_lexer": "ipython3",
   "version": "3.12.3"
  }
 },
 "nbformat": 4,
 "nbformat_minor": 2
}
